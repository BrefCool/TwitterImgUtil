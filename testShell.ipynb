{
 "cells": [
  {
   "cell_type": "markdown",
   "metadata": {
    "collapsed": true
   },
   "source": [
    "# test shell for TwitterImgUtil\n",
    "description: this is a test shell for package **TwitterImgUtil**\n"
   ]
  },
  {
   "cell_type": "markdown",
   "metadata": {},
   "source": [
    "firstly, you should install the TwitterImgUtil package on your computer. You can directly use\n",
    "```\n",
    "pip install TwitterImgUtil\n",
    "```\n",
    "to install the package"
   ]
  },
  {
   "cell_type": "markdown",
   "metadata": {},
   "source": [
    "When you install the TwitterImgUtil, please make sure that you have a text file that contains your twitter customer key & secret and access key & secret\n",
    "for example, I use 'twitter_dev.ini' to record all the infos needed. The format is like:\n",
    "```\n",
    "consumer_key=oacishviodsahvoaijvioadsaiosnv\n",
    "consumer_secret=vhiaohvdsaiovhasiobvnas\n",
    "access_key=nhvaiovhnaiovnaso\n",
    "access_secret=vbnaovnaiovnasovahnviodabnioveh\n",
    "```\n",
    "Then you can pass the user's id and the path of 'twitter_dev.ini' to the function get_images_from_feed to download all the images on this user's tweets:"
   ]
  },
  {
   "cell_type": "code",
   "execution_count": 5,
   "metadata": {
    "collapsed": false
   },
   "outputs": [],
   "source": [
    "from TwitterImgUtil import twitter"
   ]
  },
  {
   "cell_type": "code",
   "execution_count": null,
   "metadata": {
    "collapsed": false
   },
   "outputs": [],
   "source": [
    "twitter.get_images_from_feed('@PearlJam', 'twitter_dev.ini')"
   ]
  },
  {
   "cell_type": "markdown",
   "metadata": {},
   "source": [
    "All the downloaded images will be saved in the './download_images/@PearJam' directory.\n",
    "\n",
    "Then you can use GVision module to add labels on those images.\n",
    "\n",
    "You should pass the path of the Google credential json file to the function get_image_client() first. Then use the image_client returned to get all the labeled images.\n",
    "\n",
    "In the function draw_labels_on_images(), the second parameter represents where all the images are from. The third is where all the labeled images should be saved.\n",
    "You can create a directory first."
   ]
  },
  {
   "cell_type": "code",
   "execution_count": null,
   "metadata": {
    "collapsed": true
   },
   "outputs": [],
   "source": [
    "import os\n",
    "os.mkdir('./download_images/@PearlJam/add_labels')"
   ]
  },
  {
   "cell_type": "code",
   "execution_count": null,
   "metadata": {
    "collapsed": true
   },
   "outputs": [],
   "source": [
    "from TwitterImgUtil import GVision"
   ]
  },
  {
   "cell_type": "code",
   "execution_count": null,
   "metadata": {
    "collapsed": false
   },
   "outputs": [],
   "source": [
    "image_client = GVision.get_image_client('TwitterImgUtil_credential.json')\n",
    "GVision.draw_labels_on_images(image_client, './download_images/@PearlJam', './download_images/@PearlJam/add_labels')"
   ]
  },
  {
   "cell_type": "markdown",
   "metadata": {},
   "source": [
    "At last, use selfFFMPEG module to convert all the labeled images to several videos."
   ]
  },
  {
   "cell_type": "code",
   "execution_count": 1,
   "metadata": {
    "collapsed": true
   },
   "outputs": [],
   "source": [
    "from TwitterImgUtil import selfFFMPEG"
   ]
  },
  {
   "cell_type": "code",
   "execution_count": null,
   "metadata": {
    "collapsed": false
   },
   "outputs": [],
   "source": [
    "selfFFMPEG.convert_images_to_video('./download_images/@PearlJam/add_labels', './download_images/@PearlJam')"
   ]
  },
  {
   "cell_type": "markdown",
   "metadata": {},
   "source": [
    "Then, you can find all the generated videos in the path: './download_images/@PearlJam'"
   ]
  }
 ],
 "metadata": {
  "anaconda-cloud": {},
  "kernelspec": {
   "display_name": "TwitterImgUtil_env",
   "language": "python",
   "name": "twitterimgutil_env"
  },
  "language_info": {
   "codemirror_mode": {
    "name": "ipython",
    "version": 3
   },
   "file_extension": ".py",
   "mimetype": "text/x-python",
   "name": "python",
   "nbconvert_exporter": "python",
   "pygments_lexer": "ipython3",
   "version": "3.5.2"
  }
 },
 "nbformat": 4,
 "nbformat_minor": 0
}
