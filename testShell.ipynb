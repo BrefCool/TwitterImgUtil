{
 "cells": [
  {
   "cell_type": "markdown",
   "metadata": {
    "collapsed": true
   },
   "source": [
    "# test shell for TwitterImgUtil\n",
    "description: this is a test shell for package **TwitterImgUtil**\n",
    "\n",
    "\n",
    "### test twitter module:"
   ]
  },
  {
   "cell_type": "code",
   "execution_count": 5,
   "metadata": {
    "collapsed": false
   },
   "outputs": [],
   "source": [
    "from TwitterImgUtil import twitter"
   ]
  },
  {
   "cell_type": "code",
   "execution_count": 7,
   "metadata": {
    "collapsed": false
   },
   "outputs": [
    {
     "name": "stdout",
     "output_type": "stream",
     "text": [
      "authorize Twitter...\n",
      "start grabbing tweets...\n",
      "...400 tweets downloaded so far\n",
      "...600 tweets downloaded so far\n",
      "...800 tweets downloaded so far\n",
      "...1000 tweets downloaded so far\n",
      "...1200 tweets downloaded so far\n",
      "...1399 tweets downloaded so far\n",
      "...1598 tweets downloaded so far\n",
      "...1797 tweets downloaded so far\n",
      "...1996 tweets downloaded so far\n",
      "...2194 tweets downloaded so far\n",
      "...2392 tweets downloaded so far\n",
      "...2590 tweets downloaded so far\n",
      "...2789 tweets downloaded so far\n",
      "...2989 tweets downloaded so far\n",
      "...3189 tweets downloaded so far\n",
      "...3192 tweets downloaded so far\n",
      "...3192 tweets downloaded so far\n",
      "Writing tweet objects to JSON please wait...\n",
      "Writing Finish...\n",
      "start downloading images...\n",
      "...200 images downloaded so far\n",
      "...400 images downloaded so far\n",
      "...600 images downloaded so far\n",
      "...800 images downloaded so far\n",
      "...1000 images downloaded so far\n",
      "...1200 images downloaded so far\n",
      "...1400 images downloaded so far\n",
      "...1600 images downloaded so far\n",
      "Error when downloading image(http://pbs.twimg.com/media/CgwSYZ2UkAAXrpA.jpg)\n",
      "error msg: HTTP Error 404: Not Found\n",
      "Error when downloading image(http://pbs.twimg.com/media/CgwSYZ2UkAAXrpA.jpg)\n",
      "error msg: HTTP Error 404: Not Found\n",
      "Error when downloading image(http://pbs.twimg.com/media/CgwSYZ2UkAAXrpA.jpg)\n",
      "error msg: HTTP Error 404: Not Found\n",
      "Error when downloading image(http://pbs.twimg.com/media/CgNwQwwUMAAJ909.jpg)\n",
      "error msg: HTTP Error 404: Not Found\n",
      "Error when downloading image(http://pbs.twimg.com/media/CgNwQwwUMAAJ909.jpg)\n",
      "error msg: HTTP Error 404: Not Found\n",
      "Error when downloading image(http://pbs.twimg.com/media/CgNwQwwUMAAJ909.jpg)\n",
      "error msg: HTTP Error 404: Not Found\n",
      "...1800 images downloaded so far\n",
      "download 1975 images from 1977 urls\n",
      "..................finish\n"
     ]
    }
   ],
   "source": [
    "twitter.get_images_from_feed('@PearlJam', 'twitter_dev.ini')"
   ]
  },
  {
   "cell_type": "markdown",
   "metadata": {},
   "source": [
    "### test FFMPEG module:"
   ]
  },
  {
   "cell_type": "code",
   "execution_count": 3,
   "metadata": {
    "collapsed": true
   },
   "outputs": [],
   "source": [
    "from TwitterImgUtil import selfFFMPEG"
   ]
  },
  {
   "cell_type": "code",
   "execution_count": 4,
   "metadata": {
    "collapsed": false
   },
   "outputs": [
    {
     "name": "stdout",
     "output_type": "stream",
     "text": [
      "resizing images...\n",
      "...finish, 120 images are resized\n",
      "start converting....\n",
      "...finish, 2 movies generated.\n"
     ]
    }
   ],
   "source": [
    "selfFFMPEG.convert_images_to_video('./download_images/@Elephant_Gym/add_labels', './download_images/@Elephant_Gym')"
   ]
  },
  {
   "cell_type": "markdown",
   "metadata": {},
   "source": [
    "### test Google Vision module:"
   ]
  },
  {
   "cell_type": "code",
   "execution_count": 1,
   "metadata": {
    "collapsed": true
   },
   "outputs": [],
   "source": [
    "from TwitterImgUtil import GVision\n",
    "import os"
   ]
  },
  {
   "cell_type": "code",
   "execution_count": 2,
   "metadata": {
    "collapsed": false
   },
   "outputs": [
    {
     "name": "stdout",
     "output_type": "stream",
     "text": [
      "Error when writing labels for image: ./download_images/@Elephant_Gym\\image-00066.jpg\n",
      "error msg: cannot write mode RGBA as JPEG\n"
     ]
    }
   ],
   "source": [
    "image_client = GVision.get_image_client('TwitterImgUtil_credential.json')\n",
    "GVision.draw_labels_on_images(image_client, './download_images/@Elephant_Gym', './download_images/@Elephant_Gym/add_labels')"
   ]
  }
 ],
 "metadata": {
  "anaconda-cloud": {},
  "kernelspec": {
   "display_name": "TwitterImgUtil_env",
   "language": "python",
   "name": "twitterimgutil_env"
  },
  "language_info": {
   "codemirror_mode": {
    "name": "ipython",
    "version": 3
   },
   "file_extension": ".py",
   "mimetype": "text/x-python",
   "name": "python",
   "nbconvert_exporter": "python",
   "pygments_lexer": "ipython3",
   "version": "3.5.2"
  }
 },
 "nbformat": 4,
 "nbformat_minor": 0
}
